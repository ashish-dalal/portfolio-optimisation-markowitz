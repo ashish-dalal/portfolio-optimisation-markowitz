{
 "cells": [
  {
   "cell_type": "markdown",
   "id": "7dc48a42",
   "metadata": {
    "id": "7dc48a42"
   },
   "source": [
    "IMPORTING NECESSARY LIBRARIES"
   ]
  },
  {
   "cell_type": "code",
   "execution_count": 39,
   "id": "03810fee",
   "metadata": {
    "id": "03810fee"
   },
   "outputs": [],
   "source": [
    "import numpy as np\n",
    "import pandas as pd\n",
    "import matplotlib.pyplot as plt\n",
    "import seaborn as sns\n",
    "import yfinance as yf\n",
    "import math\n",
    "sns.set_style(\"whitegrid\")"
   ]
  },
  {
   "cell_type": "code",
   "execution_count": 1,
   "id": "75ab9eb7",
   "metadata": {
    "colab": {
     "base_uri": "https://localhost:8080/",
     "height": 455
    },
    "id": "75ab9eb7",
    "outputId": "9cdab25a-4921-4497-a23d-54875005d8a8"
   },
   "outputs": [
    {
     "ename": "NameError",
     "evalue": "name 'yf' is not defined",
     "output_type": "error",
     "traceback": [
      "\u001b[1;31m---------------------------------------------------------------------------\u001b[0m",
      "\u001b[1;31mNameError\u001b[0m                                 Traceback (most recent call last)",
      "Cell \u001b[1;32mIn[1], line 3\u001b[0m\n\u001b[0;32m      1\u001b[0m st \u001b[38;5;241m=\u001b[39m \u001b[38;5;124m'\u001b[39m\u001b[38;5;124m2023-01-01\u001b[39m\u001b[38;5;124m'\u001b[39m\n\u001b[0;32m      2\u001b[0m ed \u001b[38;5;241m=\u001b[39m \u001b[38;5;124m'\u001b[39m\u001b[38;5;124m2023-12-31\u001b[39m\u001b[38;5;124m'\u001b[39m\n\u001b[1;32m----> 3\u001b[0m benchmarkdf \u001b[38;5;241m=\u001b[39m \u001b[43myf\u001b[49m\u001b[38;5;241m.\u001b[39mdownload(tickers \u001b[38;5;241m=\u001b[39m \u001b[38;5;124m\"\u001b[39m\u001b[38;5;124m^NSEMDCP50\u001b[39m\u001b[38;5;124m\"\u001b[39m, start \u001b[38;5;241m=\u001b[39m st, end  \u001b[38;5;241m=\u001b[39m ed, progress \u001b[38;5;241m=\u001b[39m \u001b[38;5;28;01mFalse\u001b[39;00m, period \u001b[38;5;241m=\u001b[39m \u001b[38;5;124m'\u001b[39m\u001b[38;5;124m1d\u001b[39m\u001b[38;5;124m'\u001b[39m)\n\u001b[0;32m      4\u001b[0m benchmarkdf\u001b[38;5;241m.\u001b[39mdrop(columns \u001b[38;5;241m=\u001b[39m [\u001b[38;5;124m\"\u001b[39m\u001b[38;5;124mOpen\u001b[39m\u001b[38;5;124m\"\u001b[39m,\u001b[38;5;124m\"\u001b[39m\u001b[38;5;124mLow\u001b[39m\u001b[38;5;124m\"\u001b[39m,\u001b[38;5;124m\"\u001b[39m\u001b[38;5;124mHigh\u001b[39m\u001b[38;5;124m\"\u001b[39m,\u001b[38;5;124m\"\u001b[39m\u001b[38;5;124mVolume\u001b[39m\u001b[38;5;124m\"\u001b[39m,\u001b[38;5;124m\"\u001b[39m\u001b[38;5;124mAdj Close\u001b[39m\u001b[38;5;124m\"\u001b[39m], inplace \u001b[38;5;241m=\u001b[39m \u001b[38;5;28;01mTrue\u001b[39;00m)\n\u001b[0;32m      5\u001b[0m benchmarkdf\n",
      "\u001b[1;31mNameError\u001b[0m: name 'yf' is not defined"
     ]
    }
   ],
   "source": [
    "st = '2023-01-01'\n",
    "ed = '2023-12-31'\n",
    "benchmarkdf = yf.download(tickers = \"^NSEMDCP50\", start = st, end  = ed, progress = False, period = '1d')\n",
    "benchmarkdf.drop(columns = [\"Open\",\"Low\",\"High\",\"Volume\",\"Adj Close\"], inplace = True)\n",
    "benchmarkdf"
   ]
  },
  {
   "cell_type": "code",
   "execution_count": 53,
   "id": "890lb4VUWGx8",
   "metadata": {
    "colab": {
     "base_uri": "https://localhost:8080/",
     "height": 455
    },
    "id": "890lb4VUWGx8",
    "outputId": "1e86e761-2b21-466c-8590-5a8154f986cb"
   },
   "outputs": [
    {
     "data": {
      "text/html": [
       "<div>\n",
       "<style scoped>\n",
       "    .dataframe tbody tr th:only-of-type {\n",
       "        vertical-align: middle;\n",
       "    }\n",
       "\n",
       "    .dataframe tbody tr th {\n",
       "        vertical-align: top;\n",
       "    }\n",
       "\n",
       "    .dataframe thead th {\n",
       "        text-align: right;\n",
       "    }\n",
       "</style>\n",
       "<table border=\"1\" class=\"dataframe\">\n",
       "  <thead>\n",
       "    <tr style=\"text-align: right;\">\n",
       "      <th></th>\n",
       "      <th>Close</th>\n",
       "      <th>Portfolio Value</th>\n",
       "    </tr>\n",
       "    <tr>\n",
       "      <th>Date</th>\n",
       "      <th></th>\n",
       "      <th></th>\n",
       "    </tr>\n",
       "  </thead>\n",
       "  <tbody>\n",
       "    <tr>\n",
       "      <th>2023-01-02</th>\n",
       "      <td>8821.799805</td>\n",
       "      <td>10000.000000</td>\n",
       "    </tr>\n",
       "    <tr>\n",
       "      <th>2023-01-03</th>\n",
       "      <td>8843.349609</td>\n",
       "      <td>10024.427900</td>\n",
       "    </tr>\n",
       "    <tr>\n",
       "      <th>2023-01-04</th>\n",
       "      <td>8745.700195</td>\n",
       "      <td>9913.736867</td>\n",
       "    </tr>\n",
       "    <tr>\n",
       "      <th>2023-01-05</th>\n",
       "      <td>8808.599609</td>\n",
       "      <td>9985.036846</td>\n",
       "    </tr>\n",
       "    <tr>\n",
       "      <th>2023-01-06</th>\n",
       "      <td>8752.299805</td>\n",
       "      <td>9921.217890</td>\n",
       "    </tr>\n",
       "    <tr>\n",
       "      <th>...</th>\n",
       "      <td>...</td>\n",
       "      <td>...</td>\n",
       "    </tr>\n",
       "    <tr>\n",
       "      <th>2023-12-22</th>\n",
       "      <td>12838.200195</td>\n",
       "      <td>14552.812895</td>\n",
       "    </tr>\n",
       "    <tr>\n",
       "      <th>2023-12-26</th>\n",
       "      <td>12905.599609</td>\n",
       "      <td>14629.213874</td>\n",
       "    </tr>\n",
       "    <tr>\n",
       "      <th>2023-12-27</th>\n",
       "      <td>12946.500000</td>\n",
       "      <td>14675.576738</td>\n",
       "    </tr>\n",
       "    <tr>\n",
       "      <th>2023-12-28</th>\n",
       "      <td>13066.250000</td>\n",
       "      <td>14811.320013</td>\n",
       "    </tr>\n",
       "    <tr>\n",
       "      <th>2023-12-29</th>\n",
       "      <td>13144.950195</td>\n",
       "      <td>14900.531055</td>\n",
       "    </tr>\n",
       "  </tbody>\n",
       "</table>\n",
       "<p>245 rows × 2 columns</p>\n",
       "</div>"
      ],
      "text/plain": [
       "                   Close  Portfolio Value\n",
       "Date                                     \n",
       "2023-01-02   8821.799805     10000.000000\n",
       "2023-01-03   8843.349609     10024.427900\n",
       "2023-01-04   8745.700195      9913.736867\n",
       "2023-01-05   8808.599609      9985.036846\n",
       "2023-01-06   8752.299805      9921.217890\n",
       "...                  ...              ...\n",
       "2023-12-22  12838.200195     14552.812895\n",
       "2023-12-26  12905.599609     14629.213874\n",
       "2023-12-27  12946.500000     14675.576738\n",
       "2023-12-28  13066.250000     14811.320013\n",
       "2023-12-29  13144.950195     14900.531055\n",
       "\n",
       "[245 rows x 2 columns]"
      ]
     },
     "execution_count": 53,
     "metadata": {},
     "output_type": "execute_result"
    }
   ],
   "source": [
    "initial_investment = 10000\n",
    "shares_bought = initial_investment / benchmarkdf['Close'][0]\n",
    "\n",
    "benchmarkdf['Portfolio Value'] = benchmarkdf['Close']*shares_bought\n",
    "benchmarkdf"
   ]
  },
  {
   "cell_type": "code",
   "execution_count": 54,
   "id": "XCBH61M2XYr8",
   "metadata": {
    "colab": {
     "base_uri": "https://localhost:8080/"
    },
    "id": "XCBH61M2XYr8",
    "outputId": "b979c317-0733-46cb-8f85-ddca3a65c240"
   },
   "outputs": [
    {
     "name": "stdout",
     "output_type": "stream",
     "text": [
      "Benchmark Returns: 49.01 %\n",
      "0.12340268141198124\n",
      "0.41188755604557037\n",
      "Benchmark Sharpe Ratio: 2.77\n"
     ]
    }
   ],
   "source": [
    "final_portfolio_value = benchmarkdf['Portfolio Value'][-1]\n",
    "benchmark_returns = (final_portfolio_value - initial_investment)*100 / initial_investment\n",
    "print(\"Benchmark Returns:\", round(benchmark_returns,2),\"%\")\n",
    "\n",
    "s = benchmarkdf['Portfolio Value']\n",
    "s = np.log(s / s.shift(1))\n",
    "s = s[1:]\n",
    "sigma = (np.std(s)*math.sqrt(252))\n",
    "s = s.mean()*252\n",
    "print(sigma)\n",
    "ra = s\n",
    "print(ra)\n",
    "rb = 0.07\n",
    "benchmark_sr = ((ra-rb)/sigma) # Sharpe ratio\n",
    "print(\"Benchmark Sharpe Ratio:\", round(benchmark_sr,2))"
   ]
  },
  {
   "cell_type": "code",
   "execution_count": 55,
   "id": "scgMU_quX3k-",
   "metadata": {
    "colab": {
     "base_uri": "https://localhost:8080/",
     "height": 451
    },
    "id": "scgMU_quX3k-",
    "outputId": "be2ef87b-8869-47a2-9c4d-c0965cd83115"
   },
   "outputs": [
    {
     "data": {
      "text/plain": [
       "<Axes: xlabel='Date'>"
      ]
     },
     "execution_count": 55,
     "metadata": {},
     "output_type": "execute_result"
    },
    {
     "data": {
      "image/png": "[encoded data removed]",
      "text/plain": [
       "<Figure size 640x480 with 1 Axes>"
      ]
     },
     "metadata": {},
     "output_type": "display_data"
    }
   ],
   "source": [
    "benchmarkdf['Portfolio Value'].plot(kind='line')"
   ]
  },
  {
   "cell_type": "markdown",
   "id": "5fa25d29",
   "metadata": {
    "id": "5fa25d29"
   },
   "source": [
    "PULLING THE DATA AND FORMING A DATABASE"
   ]
  },
  {
   "cell_type": "code",
   "execution_count": 60,
   "id": "57a3ffec",
   "metadata": {
    "id": "9530d1b9"
   },
   "outputs": [],
   "source": [
    "NUM_SIMULATIONS = 10000     # Tweak accordingly (can start with 5000-10000 for creating the code initially)\n",
    "NUM_TRADING_DAYS = 252\n",
    "\n",
    "stocks =[\"LUPIN.NS\", \"VOLTAS.NS\", \"NMDC.NS\", \"ZYDUSLIFE.NS\", \"SAIL.NS\"]"
   ]
  },
  {
   "cell_type": "code",
   "execution_count": 57,
   "id": "c41e55ae",
   "metadata": {
    "id": "9530d1b9"
   },
   "outputs": [],
   "source": [
    "from itertools import combinations\n",
    "numbers = range(len(stocks))\n",
    "\n",
    "# Generate all combinations of selecting 3 numbers\n",
    "combs = list(combinations(numbers, 3))              # it will be something like [(0,1,2), (0,1,3)....]"
   ]
  },
  {
   "cell_type": "code",
   "execution_count": 58,
   "id": "89d725bb",
   "metadata": {
    "id": "9530d1b9"
   },
   "outputs": [
    {
     "name": "stdout",
     "output_type": "stream",
     "text": [
      "yfinance.Ticker object <LUPIN.NS>\n",
      "yfinance.Ticker object <VOLTAS.NS>\n",
      "yfinance.Ticker object <NMDC.NS>\n",
      "yfinance.Ticker object <LUPIN.NS>\n",
      "yfinance.Ticker object <VOLTAS.NS>\n",
      "yfinance.Ticker object <ZYDUSLIFE.NS>\n",
      "yfinance.Ticker object <LUPIN.NS>\n",
      "yfinance.Ticker object <VOLTAS.NS>\n",
      "yfinance.Ticker object <SAIL.NS>\n",
      "yfinance.Ticker object <LUPIN.NS>\n",
      "yfinance.Ticker object <NMDC.NS>\n",
      "yfinance.Ticker object <ZYDUSLIFE.NS>\n",
      "yfinance.Ticker object <LUPIN.NS>\n",
      "yfinance.Ticker object <NMDC.NS>\n",
      "yfinance.Ticker object <SAIL.NS>\n",
      "yfinance.Ticker object <LUPIN.NS>\n",
      "yfinance.Ticker object <ZYDUSLIFE.NS>\n",
      "yfinance.Ticker object <SAIL.NS>\n",
      "yfinance.Ticker object <VOLTAS.NS>\n",
      "yfinance.Ticker object <NMDC.NS>\n",
      "yfinance.Ticker object <ZYDUSLIFE.NS>\n",
      "yfinance.Ticker object <VOLTAS.NS>\n",
      "yfinance.Ticker object <NMDC.NS>\n",
      "yfinance.Ticker object <SAIL.NS>\n",
      "yfinance.Ticker object <VOLTAS.NS>\n",
      "yfinance.Ticker object <ZYDUSLIFE.NS>\n",
      "yfinance.Ticker object <SAIL.NS>\n",
      "yfinance.Ticker object <NMDC.NS>\n",
      "yfinance.Ticker object <ZYDUSLIFE.NS>\n",
      "yfinance.Ticker object <SAIL.NS>\n"
     ]
    }
   ],
   "source": [
    "for comb in combs:\n",
    "  stocks_new = [stocks[i] for i in comb]\n",
    "  stock_data = {}\n",
    "  for stock in stocks_new:\n",
    "      ticker = yf.Ticker(stock)\n",
    "      print(ticker)\n",
    "      stock_data[stock] = ticker.history(start=st, end=ed,)['Close']       #use the same start and end dates as the benchmark"
   ]
  },
  {
   "cell_type": "code",
   "execution_count": 62,
   "id": "9530d1b9",
   "metadata": {
    "id": "9530d1b9"
   },
   "outputs": [
    {
     "name": "stdout",
     "output_type": "stream",
     "text": [
      "yfinance.Ticker object <LUPIN.NS>\n",
      "yfinance.Ticker object <VOLTAS.NS>\n",
      "yfinance.Ticker object <NMDC.NS>\n",
      "Combo Returns: 95.34 %\n",
      "Combo Sharpe Ratio: 2.61\n",
      "yfinance.Ticker object <LUPIN.NS>\n",
      "yfinance.Ticker object <VOLTAS.NS>\n",
      "yfinance.Ticker object <ZYDUSLIFE.NS>\n",
      "Combo Returns: 99.17 %\n",
      "Combo Sharpe Ratio: 2.57\n",
      "yfinance.Ticker object <LUPIN.NS>\n",
      "yfinance.Ticker object <VOLTAS.NS>\n",
      "yfinance.Ticker object <SAIL.NS>\n",
      "Combo Returns: 39.0 %\n",
      "Combo Sharpe Ratio: 2.18\n",
      "yfinance.Ticker object <LUPIN.NS>\n",
      "yfinance.Ticker object <NMDC.NS>\n",
      "yfinance.Ticker object <ZYDUSLIFE.NS>\n",
      "Combo Returns: 157.78 %\n",
      "Combo Sharpe Ratio: 2.95\n",
      "yfinance.Ticker object <LUPIN.NS>\n",
      "yfinance.Ticker object <NMDC.NS>\n",
      "yfinance.Ticker object <SAIL.NS>\n",
      "Combo Returns: 68.54 %\n",
      "Combo Sharpe Ratio: 2.53\n",
      "yfinance.Ticker object <LUPIN.NS>\n",
      "yfinance.Ticker object <ZYDUSLIFE.NS>\n",
      "yfinance.Ticker object <SAIL.NS>\n",
      "Combo Returns: 92.05 %\n",
      "Combo Sharpe Ratio: 2.59\n",
      "yfinance.Ticker object <VOLTAS.NS>\n",
      "yfinance.Ticker object <NMDC.NS>\n",
      "yfinance.Ticker object <ZYDUSLIFE.NS>\n",
      "Combo Returns: 88.32 %\n",
      "Combo Sharpe Ratio: 2.57\n",
      "yfinance.Ticker object <VOLTAS.NS>\n",
      "yfinance.Ticker object <NMDC.NS>\n",
      "yfinance.Ticker object <SAIL.NS>\n",
      "Combo Returns: 45.59 %\n",
      "Combo Sharpe Ratio: 1.76\n",
      "yfinance.Ticker object <VOLTAS.NS>\n",
      "yfinance.Ticker object <ZYDUSLIFE.NS>\n",
      "yfinance.Ticker object <SAIL.NS>\n",
      "Combo Returns: 32.74 %\n",
      "Combo Sharpe Ratio: 2.03\n",
      "yfinance.Ticker object <NMDC.NS>\n",
      "yfinance.Ticker object <ZYDUSLIFE.NS>\n",
      "yfinance.Ticker object <SAIL.NS>\n",
      "Combo Returns: 66.25 %\n",
      "Combo Sharpe Ratio: 2.51\n"
     ]
    },
    {
     "data": {
      "text/html": [
       "<div>\n",
       "<style scoped>\n",
       "    .dataframe tbody tr th:only-of-type {\n",
       "        vertical-align: middle;\n",
       "    }\n",
       "\n",
       "    .dataframe tbody tr th {\n",
       "        vertical-align: top;\n",
       "    }\n",
       "\n",
       "    .dataframe thead th {\n",
       "        text-align: right;\n",
       "    }\n",
       "</style>\n",
       "<table border=\"1\" class=\"dataframe\">\n",
       "  <thead>\n",
       "    <tr style=\"text-align: right;\">\n",
       "      <th></th>\n",
       "      <th>Stocks in Portfolio</th>\n",
       "      <th>Shares</th>\n",
       "      <th>Final Portfolio Value</th>\n",
       "      <th>Portfolio Return</th>\n",
       "      <th>Sharpe Ratio</th>\n",
       "    </tr>\n",
       "  </thead>\n",
       "  <tbody>\n",
       "    <tr>\n",
       "      <th>0</th>\n",
       "      <td>[LUPIN.NS, VOLTAS.NS, NMDC.NS]</td>\n",
       "      <td>[6.81, 2.37, 40.13]</td>\n",
       "      <td>19534.45</td>\n",
       "      <td>95.34</td>\n",
       "      <td>2.61</td>\n",
       "    </tr>\n",
       "    <tr>\n",
       "      <th>1</th>\n",
       "      <td>[LUPIN.NS, VOLTAS.NS, ZYDUSLIFE.NS]</td>\n",
       "      <td>[6.85, 2.98, 11.52]</td>\n",
       "      <td>19916.79</td>\n",
       "      <td>99.17</td>\n",
       "      <td>2.57</td>\n",
       "    </tr>\n",
       "    <tr>\n",
       "      <th>2</th>\n",
       "      <td>[LUPIN.NS, VOLTAS.NS, SAIL.NS]</td>\n",
       "      <td>[6.8, 2.87, 17.04]</td>\n",
       "      <td>13900.46</td>\n",
       "      <td>39.00</td>\n",
       "      <td>2.18</td>\n",
       "    </tr>\n",
       "    <tr>\n",
       "      <th>3</th>\n",
       "      <td>[LUPIN.NS, NMDC.NS, ZYDUSLIFE.NS]</td>\n",
       "      <td>[6.83, 42.86, 11.57]</td>\n",
       "      <td>25777.96</td>\n",
       "      <td>157.78</td>\n",
       "      <td>2.95</td>\n",
       "    </tr>\n",
       "    <tr>\n",
       "      <th>4</th>\n",
       "      <td>[LUPIN.NS, NMDC.NS, SAIL.NS]</td>\n",
       "      <td>[6.82, 37.8, 0.79]</td>\n",
       "      <td>16853.77</td>\n",
       "      <td>68.54</td>\n",
       "      <td>2.53</td>\n",
       "    </tr>\n",
       "    <tr>\n",
       "      <th>5</th>\n",
       "      <td>[LUPIN.NS, ZYDUSLIFE.NS, SAIL.NS]</td>\n",
       "      <td>[6.85, 11.84, 16.19]</td>\n",
       "      <td>19205.12</td>\n",
       "      <td>92.05</td>\n",
       "      <td>2.59</td>\n",
       "    </tr>\n",
       "    <tr>\n",
       "      <th>6</th>\n",
       "      <td>[VOLTAS.NS, NMDC.NS, ZYDUSLIFE.NS]</td>\n",
       "      <td>[2.3, 41.21, 11.83]</td>\n",
       "      <td>18831.70</td>\n",
       "      <td>88.32</td>\n",
       "      <td>2.57</td>\n",
       "    </tr>\n",
       "    <tr>\n",
       "      <th>7</th>\n",
       "      <td>[VOLTAS.NS, NMDC.NS, SAIL.NS]</td>\n",
       "      <td>[4.73, 42.8, 9.58]</td>\n",
       "      <td>14559.23</td>\n",
       "      <td>45.59</td>\n",
       "      <td>1.76</td>\n",
       "    </tr>\n",
       "    <tr>\n",
       "      <th>8</th>\n",
       "      <td>[VOLTAS.NS, ZYDUSLIFE.NS, SAIL.NS]</td>\n",
       "      <td>[2.45, 12.01, 21.21]</td>\n",
       "      <td>13274.39</td>\n",
       "      <td>32.74</td>\n",
       "      <td>2.03</td>\n",
       "    </tr>\n",
       "    <tr>\n",
       "      <th>9</th>\n",
       "      <td>[NMDC.NS, ZYDUSLIFE.NS, SAIL.NS]</td>\n",
       "      <td>[40.58, 11.9, 1.0]</td>\n",
       "      <td>16624.96</td>\n",
       "      <td>66.25</td>\n",
       "      <td>2.51</td>\n",
       "    </tr>\n",
       "  </tbody>\n",
       "</table>\n",
       "</div>"
      ],
      "text/plain": [
       "                   Stocks in Portfolio                Shares  \\\n",
       "0       [LUPIN.NS, VOLTAS.NS, NMDC.NS]   [6.81, 2.37, 40.13]   \n",
       "1  [LUPIN.NS, VOLTAS.NS, ZYDUSLIFE.NS]   [6.85, 2.98, 11.52]   \n",
       "2       [LUPIN.NS, VOLTAS.NS, SAIL.NS]    [6.8, 2.87, 17.04]   \n",
       "3    [LUPIN.NS, NMDC.NS, ZYDUSLIFE.NS]  [6.83, 42.86, 11.57]   \n",
       "4         [LUPIN.NS, NMDC.NS, SAIL.NS]    [6.82, 37.8, 0.79]   \n",
       "5    [LUPIN.NS, ZYDUSLIFE.NS, SAIL.NS]  [6.85, 11.84, 16.19]   \n",
       "6   [VOLTAS.NS, NMDC.NS, ZYDUSLIFE.NS]   [2.3, 41.21, 11.83]   \n",
       "7        [VOLTAS.NS, NMDC.NS, SAIL.NS]    [4.73, 42.8, 9.58]   \n",
       "8   [VOLTAS.NS, ZYDUSLIFE.NS, SAIL.NS]  [2.45, 12.01, 21.21]   \n",
       "9     [NMDC.NS, ZYDUSLIFE.NS, SAIL.NS]    [40.58, 11.9, 1.0]   \n",
       "\n",
       "   Final Portfolio Value  Portfolio Return  Sharpe Ratio  \n",
       "0               19534.45             95.34          2.61  \n",
       "1               19916.79             99.17          2.57  \n",
       "2               13900.46             39.00          2.18  \n",
       "3               25777.96            157.78          2.95  \n",
       "4               16853.77             68.54          2.53  \n",
       "5               19205.12             92.05          2.59  \n",
       "6               18831.70             88.32          2.57  \n",
       "7               14559.23             45.59          1.76  \n",
       "8               13274.39             32.74          2.03  \n",
       "9               16624.96             66.25          2.51  "
      ]
     },
     "execution_count": 62,
     "metadata": {},
     "output_type": "execute_result"
    }
   ],
   "source": [
    "sim_port_list = []\n",
    "\n",
    "for comb in combs:\n",
    "  stocks_new = [stocks[i] for i in comb]\n",
    "  stock_data = {}\n",
    "  for stock in stocks_new:\n",
    "      ticker = yf.Ticker(stock)\n",
    "      print(ticker)\n",
    "      stock_data[stock] = ticker.history(start=st, end=ed)['Close']       #use the same start and end dates as the benchmark\n",
    "\n",
    "  stock_prices = pd.DataFrame(stock_data)\n",
    "\n",
    "  log_returns = np.log(stock_prices/stock_prices.shift(1))\n",
    "  log_returns = log_returns[1:]         # Remove NaN values\n",
    "\n",
    "  portfolio_weights = []\n",
    "  portfolio_returns = []\n",
    "  portfolio_risks = []\n",
    "\n",
    "  for i in range(NUM_SIMULATIONS):\n",
    "    #your code here\n",
    "    \n",
    "    # 1) generate random weights\n",
    "    \n",
    "    w = np.random.rand(log_returns.shape[1])\n",
    "    w /= np.sum(2)\n",
    "    \n",
    "    # 2) update the list portfolio_weights\n",
    "    \n",
    "    portfolio_weights.append(w)\n",
    "    \n",
    "    # 3) update the list portfolio_returns\n",
    "    \n",
    "    p_returns = np.sum(log_returns.mean()*w)*NUM_TRADING_DAYS\n",
    "    portfolio_returns.append(p_returns)\n",
    "    \n",
    "    # 4) update the list portfolio_risks\n",
    "    \n",
    "    p_risks = np.sqrt(np.dot(w.T, np.dot(log_returns.cov()*NUM_TRADING_DAYS,w)))\n",
    "    portfolio_risks.append(p_risks)\n",
    "\n",
    "  risk_free_rate = 0.07\n",
    "  porfolio_weights = np.array(portfolio_weights)\n",
    "  portfolio_returns = np.array(portfolio_returns)\n",
    "  portfolio_risks = np.array(portfolio_risks)\n",
    "\n",
    "\n",
    "  sharpe_ratios  = (portfolio_returns - risk_free_rate) / portfolio_risks\n",
    "\n",
    "  portfolios = pd.DataFrame({\"Return\": portfolio_returns,\"Risk\": portfolio_risks,\"Sharpe\": sharpe_ratios })\n",
    "  ind = np.argmax(sharpe_ratios)\n",
    "\n",
    "  weights = np.array(portfolio_weights[ind])\n",
    "  first_day_prices = np.array(stock_prices.iloc[0,:]) \n",
    "  \n",
    "  df = stock_prices.copy()\n",
    "  individual_value = weights*initial_investment\n",
    "  shares = individual_value / first_day_prices\n",
    "\n",
    "  # create a column in df named \"Portfolio Value\" which is our portfolio value, if we buy the corresponding three stocks in the weights we just got on the first day\n",
    "  df['Portfolio Value'] = np.sum(np.array(stock_prices)*shares,axis=1)\n",
    "  # Hint:\n",
    "      # Calculate the shares bought for each on the first day.\n",
    "      # use this calculated value and multiply with close of each day to get portfolio value on that stock on the day.\n",
    "      # now add the individual stock portfolios to get the final portfolio value on the day.\n",
    "\n",
    "  final_portfolio_value = df['Portfolio Value'][-1]\n",
    "\n",
    "  df_returns = (final_portfolio_value - initial_investment)*100 / initial_investment\n",
    "\n",
    "  print(\"Combo Returns:\", round(df_returns,2),\"%\")\n",
    "  \n",
    "  df_sr = sharpe_ratios[ind]\n",
    "  print(\"Combo Sharpe Ratio:\", round(df_sr,2))\n",
    "  \n",
    "  row = [stocks_new, np.round_(shares, decimals=2), np.round_(final_portfolio_value, decimals=2), round(df_returns,2), round(df_sr,2)]\n",
    "  sim_port_list.append(row)\n",
    "\n",
    "pd.DataFrame(sim_port_list, columns=['Stocks in Portfolio','Shares','Final Portfolio Value','Portfolio Return','Sharpe Ratio'])"
   ]
  },
  {
   "cell_type": "markdown",
   "id": "yifA8422MdUw",
   "metadata": {
    "id": "yifA8422MdUw"
   },
   "source": [
    "Output should have the ticker of the stocks in the combo and their corresponding Combo return and Combo max sharpe ratio.\n",
    "For all the Combos!"
   ]
  },
  {
   "cell_type": "markdown",
   "id": "EoqYVM0DKGfh",
   "metadata": {
    "id": "EoqYVM0DKGfh"
   },
   "source": [
    "Access the output and see if there are any portfolios which out-perform the benchmark. You can also automate this part of manually looking at all the portfolios!"
   ]
  },
  {
   "cell_type": "markdown",
   "id": "o5XUykxKKRPa",
   "metadata": {
    "id": "o5XUykxKKRPa"
   },
   "source": [
    "You know have enough knowlegde to test this and see how various portfolios work!\n"
   ]
  },
  {
   "cell_type": "code",
   "execution_count": null,
   "id": "e021290d",
   "metadata": {},
   "outputs": [],
   "source": []
  },
  {
   "cell_type": "code",
   "execution_count": null,
   "id": "7196c056",
   "metadata": {},
   "outputs": [],
   "source": []
  },
  {
   "cell_type": "code",
   "execution_count": null,
   "id": "64de6da0",
   "metadata": {},
   "outputs": [],
   "source": []
  },
  {
   "cell_type": "code",
   "execution_count": null,
   "id": "9d5beb25",
   "metadata": {},
   "outputs": [],
   "source": []
  },
  {
   "cell_type": "code",
   "execution_count": null,
   "id": "b7daf02e",
   "metadata": {},
   "outputs": [],
   "source": []
  }
 ],
 "metadata": {
  "colab": {
   "provenance": []
  },
  "kernelspec": {
   "display_name": "Python 3 (ipykernel)",
   "language": "python",
   "name": "python3"
  },
  "language_info": {
   "codemirror_mode": {
    "name": "ipython",
    "version": 3
   },
   "file_extension": ".py",
   "mimetype": "text/x-python",
   "name": "python",
   "nbconvert_exporter": "python",
   "pygments_lexer": "ipython3",
   "version": "3.9.6"
  }
 },
 "nbformat": 4,
 "nbformat_minor": 5
}
