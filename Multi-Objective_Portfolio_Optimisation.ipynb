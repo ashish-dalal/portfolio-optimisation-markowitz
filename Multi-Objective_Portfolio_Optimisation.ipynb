{
 "cells": [
  {
   "cell_type": "code",
   "execution_count": 8,
   "id": "b2c4e146",
   "metadata": {},
   "outputs": [],
   "source": [
    "import yfinance as yf\n",
    "import numpy as np\n",
    "import pandas as pd\n",
    "import cvxpy as cp"
   ]
  },
  {
   "cell_type": "code",
   "execution_count": 180,
   "id": "3d9aef50",
   "metadata": {},
   "outputs": [],
   "source": [
    "NUM_SIMULATIONS = 1000\n",
    "NUM_TRADING_DAYS = 252\n",
    "\n",
    "\n",
    "stocks_list = ['YESBANK.NS','GRASIM.NS','CIPLA.NS','TCS.NS','EMAMILTD.NS']\n",
    "start_date = \"2023-04-04\"\n",
    "end_date = \"2024-04-04\"\n",
    "\n",
    "NUM_ASSETS = len(stocks_list)"
   ]
  },
  {
   "cell_type": "code",
   "execution_count": 181,
   "id": "968dad13",
   "metadata": {},
   "outputs": [
    {
     "data": {
      "text/html": [
       "<div>\n",
       "<style scoped>\n",
       "    .dataframe tbody tr th:only-of-type {\n",
       "        vertical-align: middle;\n",
       "    }\n",
       "\n",
       "    .dataframe tbody tr th {\n",
       "        vertical-align: top;\n",
       "    }\n",
       "\n",
       "    .dataframe thead th {\n",
       "        text-align: right;\n",
       "    }\n",
       "</style>\n",
       "<table border=\"1\" class=\"dataframe\">\n",
       "  <thead>\n",
       "    <tr style=\"text-align: right;\">\n",
       "      <th></th>\n",
       "      <th>YESBANK.NS</th>\n",
       "      <th>GRASIM.NS</th>\n",
       "      <th>CIPLA.NS</th>\n",
       "      <th>TCS.NS</th>\n",
       "      <th>EMAMILTD.NS</th>\n",
       "    </tr>\n",
       "    <tr>\n",
       "      <th>Date</th>\n",
       "      <th></th>\n",
       "      <th></th>\n",
       "      <th></th>\n",
       "      <th></th>\n",
       "      <th></th>\n",
       "    </tr>\n",
       "  </thead>\n",
       "  <tbody>\n",
       "    <tr>\n",
       "      <th>2023-04-05 00:00:00+05:30</th>\n",
       "      <td>15.250000</td>\n",
       "      <td>1643.649048</td>\n",
       "      <td>888.543640</td>\n",
       "      <td>3184.508057</td>\n",
       "      <td>351.816711</td>\n",
       "    </tr>\n",
       "    <tr>\n",
       "      <th>2023-04-06 00:00:00+05:30</th>\n",
       "      <td>15.400000</td>\n",
       "      <td>1653.356934</td>\n",
       "      <td>886.162903</td>\n",
       "      <td>3165.733887</td>\n",
       "      <td>349.210297</td>\n",
       "    </tr>\n",
       "    <tr>\n",
       "      <th>2023-04-10 00:00:00+05:30</th>\n",
       "      <td>15.200000</td>\n",
       "      <td>1694.169434</td>\n",
       "      <td>894.594543</td>\n",
       "      <td>3207.705322</td>\n",
       "      <td>352.554382</td>\n",
       "    </tr>\n",
       "    <tr>\n",
       "      <th>2023-04-11 00:00:00+05:30</th>\n",
       "      <td>15.200000</td>\n",
       "      <td>1695.011475</td>\n",
       "      <td>899.851929</td>\n",
       "      <td>3158.951904</td>\n",
       "      <td>354.226410</td>\n",
       "    </tr>\n",
       "    <tr>\n",
       "      <th>2023-04-12 00:00:00+05:30</th>\n",
       "      <td>15.400000</td>\n",
       "      <td>1701.301758</td>\n",
       "      <td>910.565063</td>\n",
       "      <td>3186.326416</td>\n",
       "      <td>352.898621</td>\n",
       "    </tr>\n",
       "    <tr>\n",
       "      <th>...</th>\n",
       "      <td>...</td>\n",
       "      <td>...</td>\n",
       "      <td>...</td>\n",
       "      <td>...</td>\n",
       "      <td>...</td>\n",
       "    </tr>\n",
       "    <tr>\n",
       "      <th>2024-03-27 00:00:00+05:30</th>\n",
       "      <td>23.150000</td>\n",
       "      <td>2207.350098</td>\n",
       "      <td>1463.349976</td>\n",
       "      <td>3840.899902</td>\n",
       "      <td>437.750000</td>\n",
       "    </tr>\n",
       "    <tr>\n",
       "      <th>2024-03-28 00:00:00+05:30</th>\n",
       "      <td>23.200001</td>\n",
       "      <td>2287.300049</td>\n",
       "      <td>1496.949951</td>\n",
       "      <td>3876.300049</td>\n",
       "      <td>429.350006</td>\n",
       "    </tr>\n",
       "    <tr>\n",
       "      <th>2024-04-01 00:00:00+05:30</th>\n",
       "      <td>24.450001</td>\n",
       "      <td>2292.550049</td>\n",
       "      <td>1498.650024</td>\n",
       "      <td>3916.750000</td>\n",
       "      <td>439.850006</td>\n",
       "    </tr>\n",
       "    <tr>\n",
       "      <th>2024-04-02 00:00:00+05:30</th>\n",
       "      <td>24.600000</td>\n",
       "      <td>2306.300049</td>\n",
       "      <td>1489.400024</td>\n",
       "      <td>3883.800049</td>\n",
       "      <td>443.299988</td>\n",
       "    </tr>\n",
       "    <tr>\n",
       "      <th>2024-04-03 00:00:00+05:30</th>\n",
       "      <td>25.400000</td>\n",
       "      <td>2305.449951</td>\n",
       "      <td>1471.500000</td>\n",
       "      <td>3947.300049</td>\n",
       "      <td>438.299988</td>\n",
       "    </tr>\n",
       "  </tbody>\n",
       "</table>\n",
       "<p>245 rows × 5 columns</p>\n",
       "</div>"
      ],
      "text/plain": [
       "                           YESBANK.NS    GRASIM.NS     CIPLA.NS       TCS.NS  \\\n",
       "Date                                                                           \n",
       "2023-04-05 00:00:00+05:30   15.250000  1643.649048   888.543640  3184.508057   \n",
       "2023-04-06 00:00:00+05:30   15.400000  1653.356934   886.162903  3165.733887   \n",
       "2023-04-10 00:00:00+05:30   15.200000  1694.169434   894.594543  3207.705322   \n",
       "2023-04-11 00:00:00+05:30   15.200000  1695.011475   899.851929  3158.951904   \n",
       "2023-04-12 00:00:00+05:30   15.400000  1701.301758   910.565063  3186.326416   \n",
       "...                               ...          ...          ...          ...   \n",
       "2024-03-27 00:00:00+05:30   23.150000  2207.350098  1463.349976  3840.899902   \n",
       "2024-03-28 00:00:00+05:30   23.200001  2287.300049  1496.949951  3876.300049   \n",
       "2024-04-01 00:00:00+05:30   24.450001  2292.550049  1498.650024  3916.750000   \n",
       "2024-04-02 00:00:00+05:30   24.600000  2306.300049  1489.400024  3883.800049   \n",
       "2024-04-03 00:00:00+05:30   25.400000  2305.449951  1471.500000  3947.300049   \n",
       "\n",
       "                           EMAMILTD.NS  \n",
       "Date                                    \n",
       "2023-04-05 00:00:00+05:30   351.816711  \n",
       "2023-04-06 00:00:00+05:30   349.210297  \n",
       "2023-04-10 00:00:00+05:30   352.554382  \n",
       "2023-04-11 00:00:00+05:30   354.226410  \n",
       "2023-04-12 00:00:00+05:30   352.898621  \n",
       "...                                ...  \n",
       "2024-03-27 00:00:00+05:30   437.750000  \n",
       "2024-03-28 00:00:00+05:30   429.350006  \n",
       "2024-04-01 00:00:00+05:30   439.850006  \n",
       "2024-04-02 00:00:00+05:30   443.299988  \n",
       "2024-04-03 00:00:00+05:30   438.299988  \n",
       "\n",
       "[245 rows x 5 columns]"
      ]
     },
     "execution_count": 181,
     "metadata": {},
     "output_type": "execute_result"
    }
   ],
   "source": [
    "# GATHER STOCK DATA\n",
    "\n",
    "stock_data = {}\n",
    "\n",
    "for stock in stocks_list:\n",
    "    ticker = yf.Ticker(stock)\n",
    "    stock_data[stock] = ticker.history(start=start_date, end=end_date)['Close']\n",
    "\n",
    "stock_prices = pd.DataFrame(stock_data)\n",
    "\n",
    "stock_prices"
   ]
  },
  {
   "cell_type": "code",
   "execution_count": 203,
   "id": "1f27012b",
   "metadata": {},
   "outputs": [
    {
     "data": {
      "text/plain": [
       "array([0.00209086, 0.00138671, 0.00206743, 0.00088006, 0.00090079])"
      ]
     },
     "execution_count": 203,
     "metadata": {},
     "output_type": "execute_result"
    }
   ],
   "source": [
    "stock_return = stock_prices.copy()\n",
    "stock_return = np.log(stock_return / stock_return.shift(1))\n",
    "stock_return = stock_return[1:]\n",
    "\n",
    "np.array(stock_return.mean())"
   ]
  },
  {
   "cell_type": "code",
   "execution_count": 204,
   "id": "a50b700a",
   "metadata": {
    "scrolled": false
   },
   "outputs": [],
   "source": [
    "cov_matrix = np.array(stock_return.cov())\n",
    "expected_returns = np.array([0.00209086, 0.00138671, 0.00209086, 0.00088006, 0.00090079])"
   ]
  },
  {
   "cell_type": "code",
   "execution_count": null,
   "id": "dace18bb",
   "metadata": {},
   "outputs": [],
   "source": []
  },
  {
   "cell_type": "code",
   "execution_count": 216,
   "id": "6ca3a93f",
   "metadata": {},
   "outputs": [],
   "source": [
    "# TARGET RETURN & RISK TOLERANCE \n",
    "\n",
    "risk_tolerance = np.sqrt(stock_return.var()).mean()*(1+0.40)     # 40% of risk from asset with min risk\n",
    "target_return = stock_return.mean().mean()                  # 65% of return from asset with max returns\n",
    "\n",
    "# DEFINE THE VARIABLE FOR PORTFOLIO WEIGHTS\n",
    "\n",
    "weights = cp.Variable(NUM_ASSETS)\n",
    "\n",
    "# DEFINE THE EXPECTED RETURN & RISK OBJECTIVES\n",
    "\n",
    "expected_return = cp.sum(expected_returns @ weights)\n",
    "portfolio_risk = cp.quad_form(weights, cov_matrix)\n",
    "\n",
    "# DEFINE THE OPTIMIZATION PROBLEM\n",
    "\n",
    "constraints = [cp.sum(weights) == 1, expected_return >= target_return, portfolio_risk <= risk_tolerance, weights >= 0]\n",
    "objective = cp.Maximize(expected_return)\n",
    "problem = cp.Problem(objective, constraints)"
   ]
  },
  {
   "cell_type": "code",
   "execution_count": 217,
   "id": "d7fdfd51",
   "metadata": {},
   "outputs": [
    {
     "name": "stdout",
     "output_type": "stream",
     "text": [
      "Portfolio Weights:\n",
      "[4.33793088e-01 6.12900572e-08 5.66206768e-01 4.12709998e-08\n",
      " 4.14173295e-08]\n",
      "Portfolio Expected Return: 0.002090859857582146\n",
      "Portfolio Risk (Standard Deviation): 0.014611925455505551\n"
     ]
    },
    {
     "name": "stderr",
     "output_type": "stream",
     "text": [
      "C:\\Users\\Ashish Dalal\\AppData\\Local\\Programs\\Python\\Python311\\Lib\\site-packages\\cvxpy\\reductions\\solvers\\solving_chain.py:336: FutureWarning: \n",
      "    Your problem is being solved with the ECOS solver by default. Starting in \n",
      "    CVXPY 1.5.0, Clarabel will be used as the default solver instead. To continue \n",
      "    using ECOS, specify the ECOS solver explicitly using the ``solver=cp.ECOS`` \n",
      "    argument to the ``problem.solve`` method.\n",
      "    \n",
      "  warnings.warn(ECOS_DEPRECATION_MSG, FutureWarning)\n"
     ]
    }
   ],
   "source": [
    "# SOLVE THE MULTI-OBJECTIVE OPTIMISATION\n",
    "problem.solve()\n",
    "\n",
    "# EXTRACT PORTFOLIO WEIGHTS\n",
    "\n",
    "portfolio_weights = weights.value\n",
    "\n",
    "print(\"Portfolio Weights:\")\n",
    "print(portfolio_weights)\n",
    "print(\"Portfolio Expected Return:\", expected_return.value)\n",
    "print(\"Portfolio Risk (Standard Deviation):\", np.sqrt(portfolio_risk.value))"
   ]
  },
  {
   "cell_type": "code",
   "execution_count": 207,
   "id": "704d55d5",
   "metadata": {},
   "outputs": [],
   "source": [
    "# EFFICIENT FRONTIER\n",
    "\n",
    "risk_values = []\n",
    "return_values = []\n",
    "\n",
    "for r in np.linspace(0.05,0.15,100):\n",
    "    expected_return = cp.sum(expected_returns@weights)\n",
    "    portfolio_risk = cp.quad_form(weights, cov_matrix)\n",
    "    \n",
    "    constraints = [cp.sum(weights)==1, expected_return == r]\n",
    "    problem = cp.Problem(cp.Minimize(portfolio_risk), constraints)\n",
    "    \n",
    "    problem.solve()\n",
    "    \n",
    "    risk_values.append(np.sqrt(portfolio_risk.value))\n",
    "    return_values.append(r)"
   ]
  },
  {
   "cell_type": "code",
   "execution_count": 218,
   "id": "a2676d19",
   "metadata": {},
   "outputs": [],
   "source": [
    "risk_values = []\n",
    "return_values = []\n",
    "\n",
    "for r in np.linspace(0.05, 0.15, 100):\n",
    "    expected_return = cp.sum(expected_returns @ weights)\n",
    "    portfolio_risk = cp.quad_form(weights, cov_matrix)\n",
    "    constraints = [cp.sum(weights) == 1, expected_return == r]\n",
    "    problem = cp.Problem(cp.Minimize(portfolio_risk), constraints)\n",
    "    problem.solve()\n",
    "    risk_values.append(np.sqrt(portfolio_risk.value))\n",
    "    return_values.append(r)"
   ]
  },
  {
   "cell_type": "code",
   "execution_count": 219,
   "id": "006cbe1d",
   "metadata": {},
   "outputs": [
    {
     "data": {
      "image/png": "[encoded data removed]",
      "text/plain": [
       "<Figure size 1200x600 with 1 Axes>"
      ]
     },
     "metadata": {},
     "output_type": "display_data"
    }
   ],
   "source": [
    "plt.figure(figsize=(12,6))\n",
    "plt.scatter(risk_values, return_values, c='b', marker='o', label='efficient frontier')\n",
    "plt.xlabel('Risk (std dev)')\n",
    "plt.ylabel('Expected Return')\n",
    "plt.title('Multi-Objective Portfolio Optimisation')\n",
    "plt.grid()\n",
    "plt.legend()\n",
    "plt.show()"
   ]
  },
  {
   "cell_type": "code",
   "execution_count": null,
   "id": "44adadca",
   "metadata": {},
   "outputs": [],
   "source": []
  },
  {
   "cell_type": "code",
   "execution_count": null,
   "id": "da815be4",
   "metadata": {},
   "outputs": [],
   "source": []
  },
  {
   "cell_type": "code",
   "execution_count": null,
   "id": "c73d846e",
   "metadata": {},
   "outputs": [],
   "source": []
  },
  {
   "cell_type": "code",
   "execution_count": null,
   "id": "13a2a156",
   "metadata": {},
   "outputs": [],
   "source": []
  }
 ],
 "metadata": {
  "kernelspec": {
   "display_name": "Python 3 (ipykernel)",
   "language": "python",
   "name": "python3"
  },
  "language_info": {
   "codemirror_mode": {
    "name": "ipython",
    "version": 3
   },
   "file_extension": ".py",
   "mimetype": "text/x-python",
   "name": "python",
   "nbconvert_exporter": "python",
   "pygments_lexer": "ipython3",
   "version": "3.9.6"
  }
 },
 "nbformat": 4,
 "nbformat_minor": 5
}
