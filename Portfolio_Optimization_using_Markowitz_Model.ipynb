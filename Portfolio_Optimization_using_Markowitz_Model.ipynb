{
 "cells": [
  {
   "cell_type": "markdown",
   "id": "7dc48a42",
   "metadata": {
    "id": "7dc48a42"
   },
   "source": [
    "IMPORTING NECESSARY LIBRARIES"
   ]
  },
  {
   "cell_type": "code",
   "execution_count": null,
   "id": "03810fee",
   "metadata": {
    "id": "03810fee",
    "is_executing": true
   },
   "outputs": [],
   "source": [
    "import numpy as np\n",
    "import pandas as pd\n",
    "import matplotlib.pyplot as plt\n",
    "import seaborn as sns\n",
    "import yfinance as yf\n",
    "sns.set_style(\"whitegrid\")"
   ]
  },
  {
   "cell_type": "markdown",
   "id": "00e1671b",
   "metadata": {
    "id": "00e1671b"
   },
   "source": [
    "DEFINING BASIC VARIABLES\n",
    "\n",
    "Choosing 5 high performing stocks from different sectors so that there is as little correlation between them as possible"
   ]
  },
  {
   "cell_type": "code",
   "execution_count": 2,
   "id": "75ab9eb7",
   "metadata": {
    "id": "75ab9eb7"
   },
   "outputs": [],
   "source": [
    "NUM_TRADING_DAYS = 252\n",
    "\n",
    "NUM_SIMULATIONS = 100000\n",
    "\n",
    "# stocks = [\"HDFCBANK.NS\", \"ICICIBANK\", \"INFY.NS\", \"RELIANCE.NS\", \"TCS.NS\", \"ITC.NS\", \"TATAMOTORS.NS\", \"TATASTEEL.NS\", \"ADANIENT.NS\", \"ASIANPAINT.NS\"]\n",
    "# You can get innovative by choosing different stocks\n",
    "\n",
    "stocks = [\"GHCL.NS\",\"IDFCFIRSTB.NS\",\"TATAMOTORS.NS\",\"NH.NS\",\"EMAMILTD.NS\"]\n",
    "\n",
    "start_date = \"2015-10-01\"\n",
    "end_date = \"2023-10-01\"\n"
   ]
  },
  {
   "cell_type": "markdown",
   "id": "MyDxL8hk_GuN",
   "metadata": {
    "id": "MyDxL8hk_GuN"
   },
   "source": [
    "THINK!                                                                       \n",
    "Why have we taken the number of trading days as 252?"
   ]
  },
  {
   "cell_type": "markdown",
   "id": "5fa25d29",
   "metadata": {
    "id": "5fa25d29"
   },
   "source": [
    "PULLING THE DATA AND FORMING A DATABASE"
   ]
  },
  {
   "cell_type": "code",
   "execution_count": null,
   "id": "9530d1b9",
   "metadata": {
    "colab": {
     "base_uri": "https://localhost:8080/",
     "height": 455
    },
    "id": "9530d1b9",
    "is_executing": true,
    "outputId": "8c5ff1fb-07d7-4735-b400-038c44b80b63"
   },
   "outputs": [],
   "source": [
    "stock_data = {}\n",
    "\n",
    "for stock in stocks:\n",
    "    ticker = yf.Ticker(stock)\n",
    "    stock_data[stock] = ticker.history(start = start_date, end = end_date)['Close']\n",
    "\n",
    "stock_prices = pd.DataFrame(stock_data)\n",
    "\n",
    "stock_prices"
   ]
  },
  {
   "cell_type": "markdown",
   "id": "8dec0685",
   "metadata": {
    "id": "8dec0685"
   },
   "source": [
    "CALCULATING LOG-RETURNS AND ADDING THAT DATA"
   ]
  },
  {
   "cell_type": "code",
   "execution_count": null,
   "id": "X7vO8wW0sYOn",
   "metadata": {
    "id": "X7vO8wW0sYOn"
   },
   "outputs": [],
   "source": [
    "log_returns = # your code here\n",
    "\n",
    "log_returns # should print a similar database as above"
   ]
  },
  {
   "cell_type": "markdown",
   "id": "G4bieRHdAUAh",
   "metadata": {
    "id": "G4bieRHdAUAh"
   },
   "source": [
    "hint: use np.log with the previous dataframe"
   ]
  },
  {
   "cell_type": "markdown",
   "id": "76551de7",
   "metadata": {
    "id": "76551de7"
   },
   "source": [
    "CALCULATING AVERAGE ANNUAL RETURNS"
   ]
  },
  {
   "cell_type": "code",
   "execution_count": null,
   "id": "4e0e38b2",
   "metadata": {
    "id": "4e0e38b2"
   },
   "outputs": [],
   "source": [
    "print(log_returns.mean()*NUM_TRADING_DAYS)"
   ]
  },
  {
   "cell_type": "markdown",
   "id": "dbde3964",
   "metadata": {
    "id": "dbde3964"
   },
   "source": [
    "CALCULATING ANNUAL VOLATILITY"
   ]
  },
  {
   "cell_type": "code",
   "execution_count": null,
   "id": "7ffef98f",
   "metadata": {
    "id": "7ffef98f"
   },
   "outputs": [],
   "source": [
    "print(log_returns.std()*np.sqrt(NUM_TRADING_DAYS))"
   ]
  },
  {
   "cell_type": "markdown",
   "id": "63f29fec",
   "metadata": {
    "id": "63f29fec"
   },
   "source": [
    "## GENERATING RANDOM WEIGHTS AND CHECKING THE RETURN, RISKS ASSOCIATED WITH THEM"
   ]
  },
  {
   "cell_type": "markdown",
   "id": "9ee0f47d",
   "metadata": {
    "id": "9ee0f47d"
   },
   "source": [
    "Explanation of the code below:\n",
    "\n",
    "\n",
    "1. `portfolio_weights.append(w)` - The weights of the stocks in the current portfolio are stored in a list for later analysis.\n",
    "\n",
    "2. `port_return = np.sum(log_returns.mean() * w) * NUM_TRADING_DAYS` - This line calculates the expected return of the portfolio. It does this by multiplying the average (mean) daily returns of the stocks (given by `log_returns.mean()`) by the portfolio weights and then multiplying the result by the number of trading days. In simple terms, it's estimating how much money you might make if you held this portfolio for a year.\n",
    "\n",
    "3. `portfolio_returns.append(port_return)` - The estimated return for the current portfolio is stored in a list for later analysis.\n",
    "\n",
    "4. `port_risk = np.sqrt(np.dot(w.T, np.dot(log_returns.cov() * NUM_TRADING_DAYS, w)))` - This line calculates the risk, or standard deviation, of the portfolio. It uses the covariance matrix of the stock returns (log_returns.cov()) to assess how the returns of the different stocks in the portfolio move together. The result is the portfolio's risk, and it's stored in `port_risk`.\n",
    "\n",
    "5. `portfolio_risks.append(port_risk)` - The portfolio's estimated risk is stored in a list for later analysis.\n",
    "\n",
    "In summary, this code repeatedly simulates different portfolios of stocks by randomly assigning weights to the stocks and then calculates their expected returns and risks based on historical data. It's a basic way to analyze the performance of various portfolios to understand how different weightings of stocks may affect returns and risk."
   ]
  },
  {
   "cell_type": "code",
   "execution_count": null,
   "id": "e18c0460",
   "metadata": {
    "id": "e18c0460"
   },
   "outputs": [],
   "source": [
    "portfolio_weights = []\n",
    "portfolio_returns = []\n",
    "portfolio_risks = []\n",
    "\n",
    "\n",
    "for i in range(NUM_SIMULATIONS):\n",
    "    w = #your code here           #create an array of weights for a portfolio (use np.random.random)\n",
    "                                  #weights for each stock should be fractional\n",
    "    portfolio_weights.append(w)\n",
    "    port_return = np.sum(log_returns.mean()*w)*NUM_TRADING_DAYS\n",
    "    portfolio_returns.append(port_return)\n",
    "    port_risk = np.sqrt(np.dot(w.T,np.dot(log_returns.cov()*NUM_TRADING_DAYS,w)))\n",
    "    portfolio_risks.append(port_risk)"
   ]
  },
  {
   "cell_type": "markdown",
   "id": "7e1b51c9",
   "metadata": {
    "id": "7e1b51c9"
   },
   "source": [
    "We assume the RISK FREE RATE to be 7%"
   ]
  },
  {
   "cell_type": "code",
   "execution_count": null,
   "id": "e9bcfc31",
   "metadata": {
    "id": "e9bcfc31"
   },
   "outputs": [],
   "source": [
    "risk_free_rate = 0.07"
   ]
  },
  {
   "cell_type": "markdown",
   "id": "4201610f",
   "metadata": {
    "id": "4201610f"
   },
   "source": [
    "CREATING THE DATAFRAME FOR WEIGHTS,RETURNS AND RISKS [basically all the different portfolios]"
   ]
  },
  {
   "cell_type": "code",
   "execution_count": null,
   "id": "d8dab75d",
   "metadata": {
    "id": "d8dab75d"
   },
   "outputs": [],
   "source": [
    "porfolio_weights = np.array(portfolio_weights)\n",
    "portfolio_returns = np.array(portfolio_returns)\n",
    "portfolio_risks = np.array(portfolio_risks)\n",
    "\n",
    "sharpe_ratios  = # your code here                         # use the above variables and the formula for sharpe ratio\n",
    "portfolios = pd.DataFrame({\"Return\": portfolio_returns,\"Risk\": portfolio_risks,\"Sharpe\": sharpe_ratios })"
   ]
  },
  {
   "cell_type": "code",
   "execution_count": null,
   "id": "5dcad6e2",
   "metadata": {
    "id": "5dcad6e2"
   },
   "outputs": [],
   "source": [
    "portfolios"
   ]
  },
  {
   "cell_type": "markdown",
   "id": "a6feb839",
   "metadata": {
    "id": "a6feb839"
   },
   "source": [
    "LET'S SEE HOW THE SHARPE RATIO CHANGES FOR DIFFRENT RETURNS AND DIFFRENT RISKS"
   ]
  },
  {
   "cell_type": "markdown",
   "id": "830c646c",
   "metadata": {
    "id": "830c646c"
   },
   "source": [
    "Plotting it"
   ]
  },
  {
   "cell_type": "code",
   "execution_count": null,
   "id": "88553350",
   "metadata": {
    "id": "88553350"
   },
   "outputs": [],
   "source": [
    "plt.figure(figsize=(12,8))\n",
    "plt.scatter(portfolio_risks,portfolio_returns,c = sharpe_ratios, marker=\"o\")\n",
    "plt.grid(True)\n",
    "plt.xlabel = (\"Expected Risk\")\n",
    "plt.ylabel = (\"Expected Return\")\n",
    "plt.colorbar(label = \"Sharpe Ratio\")\n",
    "\n",
    "plt.show()"
   ]
  },
  {
   "cell_type": "markdown",
   "id": "685ee2d3",
   "metadata": {
    "id": "685ee2d3"
   },
   "source": [
    "THE CURVE IS ALMOST A PERFECT HYPERBOLA!\n",
    "\n",
    "This is also called the \"Markowitz Bullet\""
   ]
  },
  {
   "cell_type": "markdown",
   "id": "1c3f8b6b",
   "metadata": {
    "id": "1c3f8b6b"
   },
   "source": [
    "The upper part of the curve is referred to as the \"Efficient Frontier\"\n"
   ]
  },
  {
   "cell_type": "markdown",
   "id": "1LdiwHSvDM2y",
   "metadata": {
    "id": "1LdiwHSvDM2y"
   },
   "source": [
    "The efficient frontier is the set of optimal portfolios that offer the highest expected return for a defined level of risk or the lowest risk for a given level of expected return. Portfolios that lie below the efficient frontier are sub-optimal because they do not provide enough return for the level of risk."
   ]
  },
  {
   "cell_type": "markdown",
   "id": "4adc315b",
   "metadata": {
    "id": "4adc315b"
   },
   "source": [
    "First let's find out the Portfolio with the maximum Sharpe Ratio"
   ]
  },
  {
   "cell_type": "code",
   "execution_count": null,
   "id": "0794494a",
   "metadata": {
    "id": "0794494a"
   },
   "outputs": [],
   "source": [
    "\n",
    "ind = 0\n",
    "\n",
    "for i in range(len(sharpe_ratios)):\n",
    "    if(sharpe_ratios[i] == np.amax(sharpe_ratios)):\n",
    "        ind = i"
   ]
  },
  {
   "cell_type": "code",
   "execution_count": null,
   "id": "f79af5f0",
   "metadata": {
    "id": "f79af5f0"
   },
   "outputs": [],
   "source": [
    "print(\"Maximum Sharpe Ratio = \",sharpe_ratios[ind])\n",
    "print(\"Corresponding Return =  \",portfolio_returns[ind])\n",
    "print(\"Corresponding Risk =  \",portfolio_risks[ind])"
   ]
  },
  {
   "cell_type": "markdown",
   "id": "9df6a44a",
   "metadata": {
    "id": "9df6a44a"
   },
   "source": [
    "SO HERE WE HAVE OUR MAX SHARPE RATIO PORTFOLIO"
   ]
  },
  {
   "cell_type": "code",
   "execution_count": null,
   "id": "6412e9e7",
   "metadata": {
    "id": "6412e9e7"
   },
   "outputs": [],
   "source": [
    "for i in range(len(stocks)):\n",
    "    print(stocks[i], ':', portfolio_weights[ind][i])"
   ]
  },
  {
   "cell_type": "markdown",
   "id": "e2bb5704",
   "metadata": {
    "id": "e2bb5704"
   },
   "source": [
    "Plotting the point of our portfolio with max sharpe"
   ]
  },
  {
   "cell_type": "code",
   "execution_count": null,
   "id": "f190ebd9",
   "metadata": {
    "id": "f190ebd9"
   },
   "outputs": [],
   "source": [
    "plt.figure(figsize=(12,8))\n",
    "plt.scatter(portfolio_risks,portfolio_returns,c = sharpe_ratios, marker=\"o\")\n",
    "plt.grid(True)\n",
    "plt.xlabel = (\"Expected Risk\")\n",
    "plt.ylabel = (\"Expected Return\")\n",
    "plt.colorbar(label = \"Sharpe Ratio\")\n",
    "plt.plot(portfolio_risks[ind],portfolio_returns[ind], 'g*',markersize = 20.0)\n",
    "\n",
    "\n",
    "plt.show()"
   ]
  },
  {
   "cell_type": "markdown",
   "id": "2a2b35ce",
   "metadata": {
    "id": "2a2b35ce"
   },
   "source": [
    "Now let's make a minimum risk portfolio"
   ]
  },
  {
   "cell_type": "code",
   "execution_count": null,
   "id": "befe17bd",
   "metadata": {
    "id": "befe17bd"
   },
   "outputs": [],
   "source": [
    "ind = 0\n",
    "#your code here                                   #get the index of the minimum risk portfolio"
   ]
  },
  {
   "cell_type": "code",
   "execution_count": null,
   "id": "c1a4747c",
   "metadata": {
    "id": "c1a4747c"
   },
   "outputs": [],
   "source": [
    "print(\"Minimum Risk = \",portfolio_risks[ind])\n",
    "print(\"Corresponding Return =  \",portfolio_returns[ind])"
   ]
  },
  {
   "cell_type": "code",
   "execution_count": null,
   "id": "fcda173d",
   "metadata": {
    "id": "fcda173d"
   },
   "outputs": [],
   "source": [
    "for i in range(len(stocks)):\n",
    "    print(stocks[i], ':', portfolio_weights[ind][i])"
   ]
  },
  {
   "cell_type": "markdown",
   "id": "332f0f8c",
   "metadata": {
    "id": "332f0f8c"
   },
   "source": [
    "As we can see, this portfolio is very very different"
   ]
  },
  {
   "cell_type": "markdown",
   "id": "f7fccd83",
   "metadata": {
    "id": "f7fccd83"
   },
   "source": [
    "Also we can see our calculations show us the basics of finance, when the risk is less, the returns are less"
   ]
  },
  {
   "cell_type": "markdown",
   "id": "NP0mqb9REZBH",
   "metadata": {
    "id": "NP0mqb9REZBH"
   },
   "source": [
    "Plotting the point of our portfolio with minimum risk"
   ]
  },
  {
   "cell_type": "code",
   "execution_count": null,
   "id": "678842f0",
   "metadata": {
    "id": "678842f0"
   },
   "outputs": [],
   "source": [
    "plt.figure(figsize=(12,8))\n",
    "plt.scatter(portfolio_risks,portfolio_returns,c = sharpe_ratios, marker=\"o\")\n",
    "plt.grid(True)\n",
    "plt.xlabel = (\"Expected Risk\")\n",
    "plt.ylabel = (\"Expected Return\")\n",
    "plt.colorbar(label = \"Sharpe Ratio\")\n",
    "plt.plot(portfolio_risks[ind],portfolio_returns[ind], 'g*',markersize = 20.0)\n",
    "\n",
    "\n",
    "plt.show()"
   ]
  },
  {
   "cell_type": "markdown",
   "id": "0167a28c",
   "metadata": {
    "id": "0167a28c"
   },
   "source": [
    "We can see the star is at the turning point of the hyperbola, as it signifies the point where the portfolio has least risk"
   ]
  }
 ],
 "metadata": {
  "colab": {
   "provenance": []
  },
  "kernelspec": {
   "display_name": "Python 3 (ipykernel)",
   "language": "python",
   "name": "python3"
  },
  "language_info": {
   "codemirror_mode": {
    "name": "ipython",
    "version": 3
   },
   "file_extension": ".py",
   "mimetype": "text/x-python",
   "name": "python",
   "nbconvert_exporter": "python",
   "pygments_lexer": "ipython3",
   "version": "3.9.6"
  }
 },
 "nbformat": 4,
 "nbformat_minor": 5
}
